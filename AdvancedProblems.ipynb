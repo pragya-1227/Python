{
 "cells": [
  {
   "cell_type": "markdown",
   "id": "94b8332a",
   "metadata": {},
   "source": [
    "# <h3> 1. Given two matrices please print the product of those two matrices </h3>\n",
    "<pre>\n",
    "\n",
    "Ex 1: A   = [[1 3 4]\n",
    "             [2 5 7]\n",
    "             [5 9 6]]\n",
    "      B   = [[1 0 0]\n",
    "             [0 1 0]\n",
    "             [0 0 1]]\n",
    "      A*B = [[1 3 4]\n",
    "             [2 5 7]\n",
    "             [5 9 6]]\n",
    "\n",
    "     \n",
    "Ex 2: A   = [[1 2]\n",
    "             [3 4]]\n",
    "      B   = [[1 2 3 4 5]\n",
    "             [5 6 7 8 9]]\n",
    "      A*B = [[11 14 17 20 23]\n",
    "             [23 30 36 42 51]]\n",
    "             \n",
    "Ex 3: A   = [[1 2]\n",
    "             [3 4]]\n",
    "      B   = [[1 4]\n",
    "             [5 6]\n",
    "             [7 8]\n",
    "             [9 6]]\n",
    "      A*B =Not possible\n",
    "</pre>"
   ]
  },
  {
   "cell_type": "code",
   "execution_count": 6,
   "id": "0662faef",
   "metadata": {},
   "outputs": [
    {
     "name": "stdout",
     "output_type": "stream",
     "text": [
      "A :  [[1, 2], [3, 4]]\n",
      "B :  [[1, 2, 3, 4, 5], [5, 6, 7, 8, 9]]\n",
      "Resultant matrix : \n",
      "[11, 14, 17, 20, 23]\n",
      "[23, 30, 37, 44, 51]\n"
     ]
    }
   ],
   "source": [
    "l = [[1, 3, 4],\n",
    "    [2, 5, 7],\n",
    "    [5, 9, 6]]\n",
    "\n",
    "m = [[1, 0, 0],\n",
    "    [0, 1, 0],\n",
    "    [0, 0, 1]]\n",
    "\n",
    "i  = [[1, 2],\n",
    "      [3 ,4]]\n",
    "j  = [[1, 4],\n",
    "      [5, 6],\n",
    "      [7 ,8],\n",
    "      [9, 6]]\n",
    "\n",
    "A   = [[1, 2],\n",
    "      [3, 4]]\n",
    "B  = [[1,2, 3, 4, 5],\n",
    "      [5,6, 7, 8 ,9]]\n",
    "\n",
    "\n",
    "#resultant will have same number of columns as matrix B and rows as matrix A\n",
    "#resultant matrix with '0' as values\n",
    "    \n",
    "row1=len(A)\n",
    "col1=len(B[0])\n",
    "C=[]\n",
    "for i in range(row1):\n",
    "    C.append([])\n",
    "    for j in range(col1):\n",
    "        C[i].append(0)\n",
    "#print(C)\n",
    "    \n",
    "# multiply a row with each column and change the row\n",
    "# so for first element in resultant , we need one loop for adding elements , one loop for changing columns and row should be same.\n",
    "# before changing row it should iterate for all the columns and add the multiplied elements\n",
    "\n",
    "\n",
    "if len(A[0])==len(B):  #checking if multiplication is possible or no\n",
    "\n",
    "    for row in range(len(A)):  #this will iterate through rows\n",
    "        \n",
    "        for col in range(len(B[0])): #this will iterate through columns\n",
    "            \n",
    "            for a in range(len(B)): #this loop is for addition \n",
    "                C[row][col]=C[row][col]+A[row][a]*B[a][col]\n",
    "            \n",
    "        \n",
    "else:\n",
    "    print(\"Multiplication not possible\")\n",
    "\n",
    "    \n",
    "print(\"A : \",A)\n",
    "print(\"B : \",B)\n",
    "print(\"Resultant matrix : \")\n",
    "for c in C:\n",
    "    print(c)\n"
   ]
  },
  {
   "cell_type": "markdown",
   "id": "3ad915f5",
   "metadata": {},
   "source": [
    "###  2. Select a number randomly with probability proportional to its magnitude from the given array of n elements\n",
    "consider an experiment, selecting an element from the list A randomly with probability proportional to its magnitude. assume we are doing the same experiment for 100 times with replacement, in each experiment you will print a number that is selected randomly from A.\n",
    "\n",
    "Ex 1: A = [0 5 27 6 13 28 100 45 10 79]\n",
    "let f(x) denote the number of times x getting selected in 100 experiments.\n",
    "f(100) > f(79) > f(45) > f(28) > f(27) > f(13) > f(10) > f(6) > f(5) > f(0)\n",
    "Hint: Similar to pandas there is a module called random that is used to generate a random number. You can use this randomly generated number to select one of the numbers for the list. "
   ]
  },
  {
   "cell_type": "code",
   "execution_count": 9,
   "id": "ca9156af",
   "metadata": {},
   "outputs": [
    {
     "name": "stdout",
     "output_type": "stream",
     "text": [
      "0 0\n",
      "5 2\n",
      "27 12\n",
      "6 1\n",
      "13 6\n",
      "28 14\n",
      "100 31\n",
      "45 12\n",
      "10 3\n",
      "79 18\n"
     ]
    }
   ],
   "source": [
    "import random\n",
    "from collections import Counter\n",
    "# write your python code here\n",
    "# you can take the above example as sample input for your program to test\n",
    "# it should work for any general input try not to hard code for only given input examples\n",
    "\n",
    "A = [0, 5, 27, 6, 13, 28, 100, 45, 10 ,79]\n",
    "def pick_a_number_from_list(lst):\n",
    "    lists=lst     \n",
    "    num=random.choices(lst,weights=(lists),k=1)  \n",
    "    return (num)\n",
    "\n",
    "ran_num=[]\n",
    "ran_list=[]\n",
    "\n",
    "def sampling_based_on_magnitued():\n",
    "    for i in range(1,100):\n",
    "        number = pick_a_number_from_list(A)\n",
    "        ran_list.append(number)\n",
    "        \n",
    "        \n",
    "    for j in range(len(ran_list)):\n",
    "        ran_num.append(ran_list[j][0])\n",
    "    \n",
    "    for z in A:\n",
    "        print(z,ran_num.count(z))\n",
    "        \n",
    "\n",
    "sampling_based_on_magnitued()"
   ]
  },
  {
   "cell_type": "markdown",
   "id": "6cb705f5",
   "metadata": {},
   "source": [
    "### 3. Replace the digits in the string with '#'\n",
    "\n",
    "consider a string that will have digits in that, we need to remove all characters that are not numbers and replace the digits with #\n",
    "\n",
    "Ex 1: A = 234                Output: ###\n",
    "\n",
    "Ex 2: A = a2b3c4             Output: ###\n",
    "\n",
    "Ex 3: A = abc                Output:   (empty string)\n",
    "\n",
    "Ex 5: A = #2a$#b%c%561#      Output: ####\n",
    "\n",
    "Hint: Similar to pandas there is a module called re (Regular expressions) in python that is used for doing string operations. For the question you can either use the functions in re or any other method. "
   ]
  },
  {
   "cell_type": "code",
   "execution_count": 10,
   "id": "bb2b180c",
   "metadata": {},
   "outputs": [
    {
     "data": {
      "text/plain": [
       "'####'"
      ]
     },
     "execution_count": 10,
     "metadata": {},
     "output_type": "execute_result"
    }
   ],
   "source": [
    "import re\n",
    "# write your python code here\n",
    "# you can take the above example as sample input for your program to test\n",
    "# it should work for any general input try not to hard code for only given input examples\n",
    "\n",
    "# you can free to change all these codes/structure\n",
    "# String: it will be the input to your program\n",
    "def replace_digits(String):\n",
    "    string=String\n",
    "    r=re.sub('\\D',\"\",string)\n",
    "    s=re.sub('\\d',\"#\",r)\n",
    "    \n",
    "   \n",
    "    return(s) # modified string which is after replacing the # with digits\n",
    "\n",
    "replace_digits('#2a$#b%c%561#')"
   ]
  },
  {
   "cell_type": "markdown",
   "id": "41b64a05",
   "metadata": {
    "id": "qha0OhQHB-k1"
   },
   "source": [
    "<h3> 4. Find the closest points</h3>\n",
    "\n",
    "consider you have given n data points in the form of list of tuples like S=[(x1,y1),(x2,y2),(x3,y3),(x4,y4),(x5,y5),..,(xn,yn)] and a point P=(p,q) <br> your task is to find 5 closest points(based on cosine distance) in S from P\n",
    "<br>cosine distance between two points (x,y) and (p,q) is defind as $cos^{-1}(\\frac{(x\\cdot p+y\\cdot q)}{\\sqrt(x^2+y^2)\\cdot\\sqrt(p^2+q^2)})$\n",
    "<pre>\n",
    "Ex:\n",
    "\n",
    "S= [(1,2),(3,4),(-1,1),(6,-7),(0, 6),(-5,-8),(-1,-1)(6,0),(1,-1)]\n",
    "P= (3,-4)\n",
    "<img src='https://i.imgur.com/vIFPOcG.jpg', width=300>\n",
    "Output:\n",
    "(6,-7)\n",
    "(1,-1)\n",
    "(6,0)\n",
    "(-5,-8)\n",
    "(-1,-1)\n",
    "</pre>\n",
    "\n",
    "<h4> Hint: The math module has functions in it to compute $cos^{-1}$ and sq root. </h4>"
   ]
  },
  {
   "cell_type": "code",
   "execution_count": 11,
   "id": "4f0165fb",
   "metadata": {},
   "outputs": [
    {
     "name": "stdout",
     "output_type": "stream",
     "text": [
      "(6, -7)\n",
      "(1, -1)\n",
      "(6, 0)\n",
      "(-5, -8)\n",
      "(-1, -1)\n",
      "\n"
     ]
    }
   ],
   "source": [
    "import math\n",
    "from collections import OrderedDict\n",
    "\n",
    "# write your python code here\n",
    "# you can take the above example as sample input for your program to test\n",
    "# it should work for any general input try not to hard code for only given input examples\n",
    "# you can free to change all these codes/structure\n",
    "# here S is list of tuples and P is a tuple ot len=2\n",
    "def closest_points_to_p(S, P):\n",
    "    # write your code here\n",
    "    p=P\n",
    "    result={}\n",
    "    keys=[]\n",
    "    values=[]\n",
    "\n",
    "    for j in range(len(S)):    \n",
    "        cos_num=(S[j][0]*p[0]+S[j][1]*p[1])\n",
    "        cos_den=(math.sqrt(S[j][0]**2+S[j][1]**2)) * (math.sqrt(p[0]**2+p[1]**2))\n",
    "        cosine=(cos_num/cos_den)\n",
    "        in_cosine=math.acos(cosine)\n",
    "        #print(\"({},{})\".format(S[j][0],S[j][1]),in_cosine)\n",
    "        keys.append((S[j][0],S[j][1])) #storing points as tuples in list\n",
    "        values.append((in_cosine))     #storing values in list\n",
    "        \n",
    "    for key, value in zip(keys, values):   #zipping both the list to create dictionary of key value pair\n",
    "        result[key] = value\n",
    "    #print(result)\n",
    "    \n",
    "    sorted_values = sorted(result.items(), key=lambda x:x[1]) #sorting dictionary based on values and displaying top5\n",
    "    for t in range(5):\n",
    "        print(sorted_values[t][0])\n",
    "    \n",
    "    return closest_points_to_p  # its list of tuples\n",
    "\n",
    "S= [(1,2),(3,4),(-1,1),(6,-7),(0, 6),(-5,-8),(-1,-1),(6,0),(1,-1)]\n",
    "P= (3,-4)\n",
    "points = closest_points_to_p(S, P)\n",
    "print() #print the returned values\n"
   ]
  },
  {
   "cell_type": "markdown",
   "id": "49f298df",
   "metadata": {},
   "source": [
    "<h3> 5. Filling the missing values in the specified formate</h3>\n",
    "You will be given a string with digits and '\\_'(missing value) symbols you have to replace the '\\_' symbols as explained \n",
    "<pre>\n",
    "Ex 1: _, _, _, 24 ==> 24/4, 24/4, 24/4, 24/4 i.e we. have distributed the 24 equally to all 4 places <br>\n",
    "Ex 2: 40, _, _, _, 60 ==> (60+40)/5,(60+40)/5,(60+40)/5,(60+40)/5,(60+40)/5 ==> 20, 20, 20, 20, 20 i.e. the sum of (60+40) is distributed qually to all 5 places<br>\n",
    "Ex 3: 80, _, _, _, _  ==> 80/5,80/5,80/5,80/5,80/5 ==> 16, 16, 16, 16, 16 i.e. the 80 is distributed qually to all 5 missing values that are right to it<br>\n",
    "Ex 4: _, _, 30, _, _, _, 50, _, _  \n",
    "==> we will fill the missing values from left to right \n",
    "    a. first we will distribute the 30 to left two missing values (10, 10, 10, _, _, _, 50, _, _)\n",
    "    b. now distribute the sum (10+50) missing values in between (10, 10, 12, 12, 12, 12, 12, _, _) \n",
    "    c. now we will distribute 12 to right side missing values (10, 10, 12, 12, 12, 12, 4, 4, 4)\n",
    "</pre>\n",
    "for a given string with comma seprate values, which will have both missing values numbers like ex: \"_, _, x, _, _, _\"\n",
    "you need fill the missing values\n",
    "\n",
    "Q: your program reads a string like ex: \"_, _, x, _, _, _\" and returns the filled sequence\n",
    "\n",
    "Ex: \n",
    "<pre>\n",
    "Input1: \"_,_,_,24\"\n",
    "Output1: 6,6,6,6\n",
    "\n",
    "Input2: \"40,_,_,_,60\"\n",
    "Output2: 20,20,20,20,20\n",
    "\n",
    "Input3: \"80,_,_,_,_\"\n",
    "Output3: 16,16,16,16,16\n",
    "\n",
    "Input4: \"_,_,30,_,_,_,50,_,_\"\n",
    "Output4: 10,10,12,12,12,12,4,4,4\n",
    "</pre>"
   ]
  },
  {
   "cell_type": "code",
   "execution_count": 12,
   "id": "f8b3c585",
   "metadata": {},
   "outputs": [
    {
     "name": "stdout",
     "output_type": "stream",
     "text": [
      "['45', '_', '30', '_', '1', '_']\n",
      "[25, 25, 8, 8, 4, 4]\n"
     ]
    }
   ],
   "source": [
    "def curve_smoothing(string):\n",
    "    s=string\n",
    "    li = list(string.split(\",\"))\n",
    "    indexs=[]\n",
    "    print(li)\n",
    "    blank_count=0\n",
    "    value_count=0\n",
    "    length=len(li)-1\n",
    "       \n",
    "    if li[0]==\"_\":\n",
    "        li[0]=0\n",
    "    if li[length]==\"_\":\n",
    "        li[length]=0\n",
    "        \n",
    "    for i in range(len(li)):\n",
    "        if li[i] !='_':\n",
    "            li[i]=int(li[i])\n",
    "            indexs.append(i)\n",
    "            value_count=value_count+1\n",
    "        else:\n",
    "            blank_count=blank_count+1\n",
    "        \n",
    "    for k in range(len(indexs)-1):\n",
    "            x=(li[indexs[k]]+li[indexs[k+1]])\n",
    "            y=((indexs[k+1])-(indexs[k]))+1\n",
    "            z=int(x/y)\n",
    "            for l in range(indexs[k],indexs[k+1]+1):\n",
    "                li[l]=z\n",
    "    print(li)\n",
    "        \n",
    "            \n",
    "S=  \"45,_,30,_,1,_\"\n",
    "smoothed_values= curve_smoothing(S)  "
   ]
  },
  {
   "cell_type": "markdown",
   "id": "5d5912a4",
   "metadata": {},
   "source": [
    "### <h3> 6. Given two sentances S1, S2</h3>\n",
    "You will be given two sentances S1, S2 your task is to find \n",
    "<pre>\n",
    "a. Number of common words between S1, S2\n",
    "b. Words in S1 but not in S2\n",
    "c. Words in S2 but not in S1\n",
    "</pre>\n",
    "\n",
    "Ex: \n",
    "<pre>\n",
    "S1= \"the first column F will contain only 5 uniques values\"\n",
    "S2= \"the second column S will contain only 3 uniques values\"\n",
    "Output:\n",
    "a. 7\n",
    "b. ['first','F','5']\n",
    "c. ['second','S','3']\n",
    "</pre>"
   ]
  },
  {
   "cell_type": "code",
   "execution_count": 13,
   "id": "87191584",
   "metadata": {},
   "outputs": [],
   "source": [
    "# write your python code here\n",
    "# you can take the above example as sample input for your program to test\n",
    "# it should work for any general input try not to hard code for only given input strings\n",
    "# you can free to change all these codes/structure\n",
    "def string_features(S1, S2):\n",
    "    s1=S1.split()\n",
    "    s2=S2.split()\n",
    "    s3=set(s1)\n",
    "    s4=set(s2)\n",
    "    \n",
    "    a=len((s3.intersection(s4)))\n",
    "    b=(s3.difference(s4))\n",
    "    c=(s4.difference(s3))\n",
    "    return a, b, c\n"
   ]
  },
  {
   "cell_type": "code",
   "execution_count": 14,
   "id": "d9f53555",
   "metadata": {},
   "outputs": [
    {
     "name": "stdout",
     "output_type": "stream",
     "text": [
      "Number of common words:  2\n",
      "Words in s1 but not in s2:  {'Are', 'currently', 'you'}\n",
      "Words in s2 but not in s1:  {'i', 'am', 'Yes'}\n"
     ]
    }
   ],
   "source": [
    "S1= \"Are you currently learning python\"\n",
    "S2= \"Yes i am learning python\"\n",
    "a,b,c=string_features(S1, S2)\n",
    "print(\"Number of common words: \",a)\n",
    "print(\"Words in s1 but not in s2: \",b)\n",
    "print(\"Words in s2 but not in s1: \",c)"
   ]
  },
  {
   "cell_type": "markdown",
   "id": "9a8df887",
   "metadata": {},
   "source": [
    "### 7. Write a function that converts a decimal number to binary number\n",
    "Eample: Binary form of 28 is 11100"
   ]
  },
  {
   "cell_type": "code",
   "execution_count": 15,
   "id": "06fd62a2",
   "metadata": {},
   "outputs": [
    {
     "name": "stdout",
     "output_type": "stream",
     "text": [
      "11100\n"
     ]
    }
   ],
   "source": [
    "def binary(num):\n",
    "    bins=[]\n",
    "    while True:\n",
    "    \n",
    "        dividend=int(num/2)\n",
    "        remainder=int(num%2)\n",
    "        num=dividend\n",
    "        bins.append(remainder)\n",
    "        \n",
    "        if dividend==0:\n",
    "            break\n",
    "    \n",
    "    print(*bins[::-1],sep=\"\")  #[::-1] because to print the list backwards\n",
    "    \n",
    "binary(28)    "
   ]
  },
  {
   "cell_type": "markdown",
   "id": "3bb0f74c",
   "metadata": {},
   "source": [
    "### 8. Write a function sumPdivisors() that finds the sum of proper divisors of a number. Proper divisors of a number are those numbers by which the number is divisible, except the number itself. For example proper divisors of 36 are 1, 2, 3, 4, 6, 9, 12, 18"
   ]
  },
  {
   "cell_type": "code",
   "execution_count": 16,
   "id": "2884056a",
   "metadata": {},
   "outputs": [
    {
     "data": {
      "text/plain": [
       "123"
      ]
     },
     "execution_count": 16,
     "metadata": {},
     "output_type": "execute_result"
    }
   ],
   "source": [
    "def sumPdivisors(num):\n",
    "    i=1\n",
    "    lst=[]\n",
    "    Sum=0\n",
    "    while i<num:\n",
    "        if num%i==0:\n",
    "            lst.append(i)\n",
    "        i=i+1\n",
    "    for n in (lst):\n",
    "        Sum=Sum+n\n",
    "    return(Sum)\n",
    "    \n",
    "sumPdivisors(72)\n",
    "            "
   ]
  },
  {
   "cell_type": "code",
   "execution_count": null,
   "id": "ace8c707",
   "metadata": {},
   "outputs": [],
   "source": []
  }
 ],
 "metadata": {
  "kernelspec": {
   "display_name": "Python 3 (ipykernel)",
   "language": "python",
   "name": "python3"
  },
  "language_info": {
   "codemirror_mode": {
    "name": "ipython",
    "version": 3
   },
   "file_extension": ".py",
   "mimetype": "text/x-python",
   "name": "python",
   "nbconvert_exporter": "python",
   "pygments_lexer": "ipython3",
   "version": "3.9.7"
  }
 },
 "nbformat": 4,
 "nbformat_minor": 5
}
