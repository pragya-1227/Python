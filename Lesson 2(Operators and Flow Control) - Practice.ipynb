{
 "cells": [
  {
   "cell_type": "markdown",
   "metadata": {},
   "source": [
    "### 1. Enter a number and print if the number is odd or even.\n",
    "\n",
    "* If odd print \"The number is an odd number\"\n",
    "* If even print \"The number is an even number\""
   ]
  },
  {
   "cell_type": "code",
   "execution_count": 5,
   "metadata": {},
   "outputs": [
    {
     "name": "stdout",
     "output_type": "stream",
     "text": [
      "Enter a number :36\n",
      "The number is an even number\n"
     ]
    }
   ],
   "source": [
    "num=input(\"Enter a number :\")\n",
    "if int(num)%2==0:\n",
    "    print(\"The number is an even number\")\n",
    "else:\n",
    "    print(\"The number is an odd number\")"
   ]
  },
  {
   "cell_type": "markdown",
   "metadata": {},
   "source": [
    "### 2. Write a program where you take the name of two people and their age as input and print the name of the person who is elder and the difference in age between the 2 persons."
   ]
  },
  {
   "cell_type": "code",
   "execution_count": 72,
   "metadata": {},
   "outputs": [
    {
     "name": "stdout",
     "output_type": "stream",
     "text": [
      "Enter name of first person :Pradnya\n",
      "What is Pradnya's age :23\n",
      "Enter name of second person :Ashish\n",
      "What is Ashish's age :29\n",
      "Ashish is elder\n",
      "The difference in age between Pradnya and Ashish  is : 6\n"
     ]
    }
   ],
   "source": [
    "# Taking user inputs\n",
    "name1=input(\"Enter name of first person :\")\n",
    "age1=input(\"What is {}'s age :\".format(name1))\n",
    "name2=input(\"Enter name of second person :\")\n",
    "age2=input(\"What is {}'s age :\".format(name2))\n",
    "\n",
    "#Finding who is elder\n",
    "if int(age1)>int(age2):\n",
    "    print(\"{} is elder\".format(name1))\n",
    "else:\n",
    "    print(\"{} is elder\".format(name2))\n",
    "\n",
    "#Calculating age difference\n",
    "age_diff=int(age1)-int(age2)\n",
    "print(\"The difference in age between {} and {}  is :\".format(name1,name2),abs(age_diff))"
   ]
  },
  {
   "cell_type": "markdown",
   "metadata": {},
   "source": [
    "### 3. A student will not be allowed to sit in exam if his/her attendence is less than 75%.Take following input from user\n",
    "* Number of classes held.\n",
    "* Number of classes attended.\n",
    "* And print percentage of class attended and if the student is allowed to sit in exam or not."
   ]
  },
  {
   "cell_type": "code",
   "execution_count": 20,
   "metadata": {},
   "outputs": [
    {
     "name": "stdout",
     "output_type": "stream",
     "text": [
      "Enter number of classes held :100\n",
      "Enter total number of classes attended :35\n",
      "Attendance is below 75% , you are not allowed to attend an examination\n"
     ]
    }
   ],
   "source": [
    "total_classes=input(\"Enter number of classes held :\")\n",
    "attended=input(\"Enter total number of classes attended :\")\n",
    "\n",
    "percent=(int(attended)/int(total_classes))*100\n",
    "\n",
    "if percent >=75:\n",
    "    print(\"You are allowed to attend an examination\")\n",
    "else:\n",
    "    print(\"Attendance is below 75% , you are not allowed to attend an examination\")"
   ]
  },
  {
   "cell_type": "markdown",
   "metadata": {},
   "source": [
    "### 4. Write a program to take 2 numbers as input from the user. Then take another input from user as operation and do the following based on the input given by the user for operation.\n",
    "\n",
    "* If user presses \"1\" print Addition of the 2 numbers entered.\n",
    "* If user presses \"2\" print Subtraction of the 2 numbers entered.\n",
    "* If user presses \"3\" print Multiplication of the 2 numbers entered.\n",
    "* If user presses \"4\" print Division of the 2 numbers entered.\n",
    "* If user presses \"5\" print Modulo of the 2 numbers entered.\n",
    "* If user presses \"6\" print Exponent of the 2 numbers."
   ]
  },
  {
   "cell_type": "code",
   "execution_count": 80,
   "metadata": {},
   "outputs": [
    {
     "name": "stdout",
     "output_type": "stream",
     "text": [
      "Enter the first number:20\n",
      "Enter the second number:40\n",
      " 1.Addition \n",
      " 2.Subtraction \n",
      " 3.Multiplication \n",
      " 4.Division \n",
      " 5.Modulo \n",
      " 6.Exponent\n",
      "Input the operation value from the above list :3\n",
      "Multiplication : 800\n"
     ]
    }
   ],
   "source": [
    "a=input(\"Enter the first number:\")\n",
    "b=input(\"Enter the second number:\")\n",
    "print(\" 1.Addition \\n 2.Subtraction \\n 3.Multiplication \\n 4.Division \\n 5.Modulo \\n 6.Exponent\")\n",
    "opt=input(\"Input the operation value from the above list :\")\n",
    "\n",
    "if int(opt)==1:\n",
    "    result=int(a)+int(b)\n",
    "    print(\"Addition :\",result)\n",
    "elif int(opt)==2:\n",
    "    result=int(a)-int(b)\n",
    "    print(\"Subtraction :\",result)\n",
    "elif int(opt)==3:\n",
    "    result=int(a)*int(b)\n",
    "    print(\"Multiplication :\",result)\n",
    "elif int(opt)==4:\n",
    "    result=int(a)/int(b)\n",
    "    print(\"Division :\",result)\n",
    "elif int(opt)==5:\n",
    "    result=int(a)%int(b)\n",
    "    print(\"Modulo :\",result)\n",
    "elif int(opt)==6:\n",
    "    result=int(a)**int(b)\n",
    "    print(\"Exponent :\",result)\n",
    "else:\n",
    "    print(\"Invalid selection\")"
   ]
  },
  {
   "cell_type": "markdown",
   "metadata": {},
   "source": [
    "### 5. Take input of a name from user and check if alphabets \"a\" or \"e\" are there in it.\n",
    "\n",
    "* If only \"a\" is present, print \"Only letter a in name\"\n",
    "* If only \"e\" is present, print \"Only letter e in name\"\n",
    "* If both present, print \"Both \"a\" and \"e\" in name\n",
    "* Otherwise print, \"Neither \"a\" nor \"e\" present in name\""
   ]
  },
  {
   "cell_type": "code",
   "execution_count": 78,
   "metadata": {},
   "outputs": [
    {
     "name": "stdout",
     "output_type": "stream",
     "text": [
      "Enter name :Anime\n",
      "Both a and e are present in the name\n"
     ]
    }
   ],
   "source": [
    "name=input(\"Enter name :\")\n",
    "if('A' in name or 'a' in name) & ('E' in name or 'e' in name):\n",
    "    print(\"Both a and e are present in the name\")\n",
    "elif('E' in name or 'e' in name):\n",
    "    print(\"Only e is present in the name\")\n",
    "elif('A' in name or 'a' in name):\n",
    "    print(\"Only a is present in the name\")\n",
    "else:\n",
    "    print(\"Neither a nor e is present in the name\")"
   ]
  },
  {
   "cell_type": "markdown",
   "metadata": {},
   "source": [
    "### 6. Ask the user to input the an year and check if the year entered is a leap year or not and print the output accordingly.\n",
    "\n",
    "* Step 1: If the year is evenly divisible by 4, go to step 2. Otherwise, go to step 5.</li>\n",
    "* Step 2: If the year is evenly divisible by 100, go to step 3. Otherwise, go to step 4.</li>\n",
    "* Step 3: If the year is evenly divisible by 400, go to step 4. Otherwise, go to step 5.</li>\n",
    "* Step 4: The year is a leap year (it has 366 days).</li>\n",
    "* Step 5: The year is not a leap year (it has 365 days).</li>\n",
    "\n",
    "\n",
    "Year 1900 is divisible by 4 and 100 but it is not divisible by 400, so it is not a leap year."
   ]
  },
  {
   "cell_type": "code",
   "execution_count": 79,
   "metadata": {},
   "outputs": [
    {
     "name": "stdout",
     "output_type": "stream",
     "text": [
      "Enter an year2016\n",
      "The year is leap year\n"
     ]
    }
   ],
   "source": [
    "year=int(input(\"Enter an year\"))\n",
    "\n",
    "if year % 4==0:\n",
    "    if year % 100==0:\n",
    "        if year % 400!=0:\n",
    "            print(\"The year is not leap year\")\n",
    "        else:\n",
    "            print(\"The year is leap year\")\n",
    "    else:\n",
    "        print(\"The year is leap year\")\n",
    "else:\n",
    "    print(\"The year is not leap year\")"
   ]
  }
 ],
 "metadata": {
  "kernelspec": {
   "display_name": "Python 3 (ipykernel)",
   "language": "python",
   "name": "python3"
  },
  "language_info": {
   "codemirror_mode": {
    "name": "ipython",
    "version": 3
   },
   "file_extension": ".py",
   "mimetype": "text/x-python",
   "name": "python",
   "nbconvert_exporter": "python",
   "pygments_lexer": "ipython3",
   "version": "3.9.7"
  }
 },
 "nbformat": 4,
 "nbformat_minor": 2
}
