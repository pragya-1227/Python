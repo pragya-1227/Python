{
 "cells": [
  {
   "cell_type": "markdown",
   "metadata": {},
   "source": [
    "###  1. Create an Empty list name lst, and add 5 numbers to it"
   ]
  },
  {
   "cell_type": "code",
   "execution_count": 1,
   "metadata": {},
   "outputs": [
    {
     "name": "stdout",
     "output_type": "stream",
     "text": [
      "[8, 27, 12, 6, 88]\n"
     ]
    }
   ],
   "source": [
    "lst=[]\n",
    "lst.append(8)\n",
    "lst.append(27)\n",
    "lst.append(12)\n",
    "lst.append(6)\n",
    "lst.append(88)\n",
    "\n",
    "print(lst)"
   ]
  },
  {
   "cell_type": "markdown",
   "metadata": {},
   "source": [
    "### 2. In the above list interchange the value of the first and last element."
   ]
  },
  {
   "cell_type": "code",
   "execution_count": 2,
   "metadata": {
    "scrolled": true
   },
   "outputs": [
    {
     "name": "stdout",
     "output_type": "stream",
     "text": [
      "[88, 27, 12, 6, 8]\n"
     ]
    }
   ],
   "source": [
    "temp=lst[-1]\n",
    "lst[-1]=lst[0]\n",
    "lst[0]=temp\n",
    "\n",
    "print(lst)"
   ]
  },
  {
   "cell_type": "markdown",
   "metadata": {},
   "source": [
    "### 3. In lst insert 9 at index 3 in the list."
   ]
  },
  {
   "cell_type": "code",
   "execution_count": 3,
   "metadata": {},
   "outputs": [
    {
     "name": "stdout",
     "output_type": "stream",
     "text": [
      "[88, 27, 12, 9, 6, 8]\n"
     ]
    }
   ],
   "source": [
    "lst.insert(3,9)\n",
    "\n",
    "print(lst)"
   ]
  },
  {
   "cell_type": "markdown",
   "metadata": {},
   "source": [
    "### 4. Use the same list and print the maximum and mimimum number in the list."
   ]
  },
  {
   "cell_type": "code",
   "execution_count": 4,
   "metadata": {},
   "outputs": [
    {
     "name": "stdout",
     "output_type": "stream",
     "text": [
      "Maximum number in the list :  88\n",
      "Minimum number in the list :  6\n"
     ]
    }
   ],
   "source": [
    "print(\"Maximum number in the list : \",max(lst))\n",
    "print(\"Minimum number in the list : \",min(lst))"
   ]
  },
  {
   "cell_type": "markdown",
   "metadata": {},
   "source": [
    "### 5. Remove all the even numbers from the lst."
   ]
  },
  {
   "cell_type": "code",
   "execution_count": 21,
   "metadata": {},
   "outputs": [
    {
     "name": "stdout",
     "output_type": "stream",
     "text": [
      "[27, 9]\n"
     ]
    }
   ],
   "source": [
    "for i in lst:\n",
    "    if i%2==0:\n",
    "        lst.remove(i)\n",
    "print(lst)"
   ]
  },
  {
   "cell_type": "markdown",
   "metadata": {},
   "source": [
    "### 6. Remove all the numbers that have 1 as a digit in the list below"
   ]
  },
  {
   "cell_type": "code",
   "execution_count": 18,
   "metadata": {},
   "outputs": [
    {
     "name": "stdout",
     "output_type": "stream",
     "text": [
      "Original [31, 39, 14, 93, 51, 62, 20, 12, 9, 3, 52, 71, 38, 98, 8, 29, 67, 69, 47, 36]\n",
      "New List  ['39', '93', '62', '20', '9', '3', '52', '38', '98', '8', '29', '67', '69', '47', '36']\n"
     ]
    }
   ],
   "source": [
    "import random\n",
    "random.seed(4)\n",
    "\n",
    "lst1 = random.sample(range(1,100),20)\n",
    "\n",
    "print(\"Original\", lst1)\n",
    "\n",
    "#creating another list of same elements\n",
    "lst2=lst1\n",
    "\n",
    "\n",
    "\n",
    "#converting int to string\n",
    "for i in range(0,len(lst2)):\n",
    "    lst2[i]=str(lst2[i])\n",
    "    \n",
    "#removing elements    \n",
    "for j in lst2:\n",
    "    if \"1\" in j:\n",
    "        lst2.remove(j)\n",
    "\n",
    "print(\"New List \",lst2)\n",
    "\n"
   ]
  },
  {
   "cell_type": "markdown",
   "metadata": {},
   "source": [
    "### 7. Display the list above in descending order."
   ]
  },
  {
   "cell_type": "code",
   "execution_count": 103,
   "metadata": {},
   "outputs": [
    {
     "name": "stdout",
     "output_type": "stream",
     "text": [
      "[98, 93, 69, 67, 62, 52, 47, 39, 38, 36, 29, 20, 9, 8, 3]\n"
     ]
    }
   ],
   "source": [
    "#converting list back to int\n",
    "for i in range(0,len(lst2)):\n",
    "    lst2[i]=int(lst2[i])\n",
    "\n",
    "lst3=lst2\n",
    "lst3.sort(reverse=True)\n",
    "print(lst3)"
   ]
  },
  {
   "cell_type": "markdown",
   "metadata": {},
   "source": [
    "### 8. Display the first and characters of each word in the string below."
   ]
  },
  {
   "cell_type": "code",
   "execution_count": 21,
   "metadata": {},
   "outputs": [
    {
     "name": "stdout",
     "output_type": "stream",
     "text": [
      "['Display', 'only', 'the', 'first', 'and', 'last', 'character', 'in', 'this', 'string']\n",
      "D y\n",
      "o y\n",
      "t e\n",
      "f t\n",
      "a d\n",
      "l t\n",
      "c r\n",
      "i n\n",
      "t s\n",
      "s g\n"
     ]
    }
   ],
   "source": [
    "string = \"Display only the first and last character in this string\"\n",
    "                \n",
    "j=string.split()    #this will split each word in a string\n",
    "print(j)\n",
    "\n",
    "for i in j: # i will traverse through each word that is j\n",
    "    #print(i)  # the variable i holds words\n",
    "    print(i[0],i[-1])  #i[0] will give us first letter of each word & i[-1] will give us last word \n",
    "    \n",
    "   \n",
    "    \n",
    "#j[0] will give us each word and if we loop through j using i then i[0] will give us each letter of j\n",
    "\n",
    "    "
   ]
  },
  {
   "cell_type": "markdown",
   "metadata": {},
   "source": [
    "### 9. In the below sting eleminate all the vowels and display the output"
   ]
  },
  {
   "cell_type": "code",
   "execution_count": 22,
   "metadata": {},
   "outputs": [
    {
     "name": "stdout",
     "output_type": "stream",
     "text": [
      "Eleminate all the vowels in this string\n",
      "lmnt ll th vwls n ths strng\n"
     ]
    }
   ],
   "source": [
    "string = \"Eleminate all the vowels in this string\"\n",
    "str2=string.lower()\n",
    "for i in str2:\n",
    "    if ( i==\"e\" or i=='a' or i=='i' or i=='o' or i=='u'):\n",
    "        str2=str2.replace(i,\"\")\n",
    "    \n",
    "        \n",
    "print(string)\n",
    "print(str2)"
   ]
  },
  {
   "cell_type": "markdown",
   "metadata": {},
   "source": [
    "### 10. Take a string as input from user and check if it is a palindrome or not. A palindrome is a word, number, phrase, or other sequence of characters which reads the same backward as forward, such as madam or racecar."
   ]
  },
  {
   "cell_type": "code",
   "execution_count": 144,
   "metadata": {},
   "outputs": [
    {
     "name": "stdout",
     "output_type": "stream",
     "text": [
      "Enter a string : MAdam\n",
      "String in reverse order :  madAM\n",
      "It is a pallindrome\n"
     ]
    }
   ],
   "source": [
    "string=input(\"Enter a string : \")\n",
    "s=string.lower()\n",
    "\n",
    "#converting string into its reverse\n",
    "string1=string[::-1]\n",
    "ss=string1.lower()\n",
    "print(\"String in reverse order : \",string1)\n",
    "\n",
    "#checking for both the strings\n",
    "if ss==s:\n",
    "    print(\"It is a pallindrome\")\n",
    "else:\n",
    "    print(\"It is not a pallindrome\")"
   ]
  },
  {
   "cell_type": "markdown",
   "metadata": {},
   "source": [
    "### 11. Based on a list of countries, create a new list, containing only the countries with the letter \"a\" in the name.\n",
    "* try and use LIST COMPREHENSION if you can"
   ]
  },
  {
   "cell_type": "code",
   "execution_count": 49,
   "metadata": {},
   "outputs": [
    {
     "name": "stdout",
     "output_type": "stream",
     "text": [
      "['Armenia', 'Barbados', 'Albania', 'Croatia', 'Estonia', 'India', 'South Korea', 'Russia', 'Chad']\n"
     ]
    }
   ],
   "source": [
    "countries = [\"Armenia\",\"Liechtenstein\",\"Barbados\",\"Albania\",\"Croatia\",\"Estonia\", \"India\", \"South Korea\", \"Russia\", \"Chad\"]\n",
    "\n",
    "newlist=[nl for nl in countries if \"a\" in nl]\n",
    "\n",
    "print(newlist)"
   ]
  },
  {
   "cell_type": "markdown",
   "metadata": {},
   "source": [
    "### 12. In the above list display the names in alphabetical order"
   ]
  },
  {
   "cell_type": "code",
   "execution_count": 52,
   "metadata": {},
   "outputs": [
    {
     "name": "stdout",
     "output_type": "stream",
     "text": [
      "['Albania', 'Armenia', 'Barbados', 'Chad', 'Croatia', 'Estonia', 'India', 'Russia', 'South Korea']\n"
     ]
    }
   ],
   "source": [
    "newlist.sort()\n",
    "print(newlist)"
   ]
  }
 ],
 "metadata": {
  "kernelspec": {
   "display_name": "Python 3 (ipykernel)",
   "language": "python",
   "name": "python3"
  },
  "language_info": {
   "codemirror_mode": {
    "name": "ipython",
    "version": 3
   },
   "file_extension": ".py",
   "mimetype": "text/x-python",
   "name": "python",
   "nbconvert_exporter": "python",
   "pygments_lexer": "ipython3",
   "version": "3.9.7"
  }
 },
 "nbformat": 4,
 "nbformat_minor": 2
}
