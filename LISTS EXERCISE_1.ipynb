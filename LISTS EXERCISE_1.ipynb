{
 "cells": [
  {
   "cell_type": "code",
   "execution_count": 14,
   "id": "15686acc",
   "metadata": {},
   "outputs": [],
   "source": [
    "list1=[1,5,6,8,4,7,3]\n",
    "list2=[2,9,10,0,5,6,8]"
   ]
  },
  {
   "cell_type": "markdown",
   "id": "23375ab1",
   "metadata": {},
   "source": [
    "### 1. Reverse the list\n",
    "\n"
   ]
  },
  {
   "cell_type": "code",
   "execution_count": 15,
   "id": "a129490e",
   "metadata": {},
   "outputs": [
    {
     "name": "stdout",
     "output_type": "stream",
     "text": [
      "[3, 7, 4, 8, 6, 5, 1]\n"
     ]
    }
   ],
   "source": [
    "list1.reverse()\n",
    "print(list1)"
   ]
  },
  {
   "cell_type": "markdown",
   "id": "fecc8001",
   "metadata": {},
   "source": [
    "### 2. Concatenate two lists index wise"
   ]
  },
  {
   "cell_type": "code",
   "execution_count": 32,
   "id": "be0c2b80",
   "metadata": {},
   "outputs": [
    {
     "name": "stdout",
     "output_type": "stream",
     "text": [
      "['My', 'name', 'is', 'Simon']\n"
     ]
    }
   ],
   "source": [
    "l1=[\"M\",\"na\",\"i\",\"Si\"]\n",
    "l2=[\"y\",\"me\",\"s\",\"mon\"]\n",
    "l3=[]\n",
    "for i in range(len(l1)):\n",
    "    l3.append(l1[i]+l2[i])\n",
    "    \n",
    "print(l3)\n",
    "\n"
   ]
  },
  {
   "cell_type": "markdown",
   "id": "22e12f97",
   "metadata": {},
   "source": [
    "### 3. Turn every list item into its square"
   ]
  },
  {
   "cell_type": "code",
   "execution_count": 42,
   "id": "31afede9",
   "metadata": {},
   "outputs": [
    {
     "name": "stdout",
     "output_type": "stream",
     "text": [
      "[9, 49, 16, 81, 36, 25, 1]\n"
     ]
    }
   ],
   "source": [
    "for i in range(len(list1)):\n",
    "    list1[i]=list1[i]**2\n",
    "print(list1)\n",
    " "
   ]
  },
  {
   "cell_type": "markdown",
   "id": "fb2608ad",
   "metadata": {},
   "source": [
    "### 4.Concatenate two lists in following order\n",
    "#### list1 = [\"Hello \", \"take \"]\n",
    "#### list2 = [\"Dear\", \"Sir\"]\n",
    "#### OUTPUT : ['Hello Dear', 'Hello Sir', 'take Dear', 'take Sir']"
   ]
  },
  {
   "cell_type": "code",
   "execution_count": 53,
   "id": "72866a58",
   "metadata": {},
   "outputs": [
    {
     "name": "stdout",
     "output_type": "stream",
     "text": [
      "['Hello Dear', 'Hello Sir', 'take Dear', 'take Sir']\n"
     ]
    }
   ],
   "source": [
    "lst1=[\"Hello\",\"take\"]\n",
    "lst2=[\"Dear\",\"Sir\"]\n",
    "lst3=[]\n",
    "\n",
    "for i in range(len(lst1)):\n",
    "    for j in range(len(lst2)):\n",
    "        result=lst1[i]+\" \"+lst2[j]\n",
    "        lst3.append(result)\n",
    "print(lst3)"
   ]
  },
  {
   "cell_type": "markdown",
   "id": "fb0cf2f4",
   "metadata": {},
   "source": [
    "### 5.Iterate both simultaneously"
   ]
  },
  {
   "cell_type": "code",
   "execution_count": 55,
   "id": "352e1cf7",
   "metadata": {},
   "outputs": [
    {
     "name": "stdout",
     "output_type": "stream",
     "text": [
      "9 2\n",
      "49 9\n",
      "16 10\n",
      "81 0\n",
      "36 5\n",
      "25 6\n",
      "1 8\n"
     ]
    }
   ],
   "source": [
    "for i,j in zip(list1,list2):\n",
    "    print(i,j)"
   ]
  },
  {
   "cell_type": "code",
   "execution_count": null,
   "id": "5bf2588d",
   "metadata": {},
   "outputs": [],
   "source": []
  }
 ],
 "metadata": {
  "kernelspec": {
   "display_name": "Python 3 (ipykernel)",
   "language": "python",
   "name": "python3"
  },
  "language_info": {
   "codemirror_mode": {
    "name": "ipython",
    "version": 3
   },
   "file_extension": ".py",
   "mimetype": "text/x-python",
   "name": "python",
   "nbconvert_exporter": "python",
   "pygments_lexer": "ipython3",
   "version": "3.11.5"
  }
 },
 "nbformat": 4,
 "nbformat_minor": 5
}
