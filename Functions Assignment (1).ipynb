{
 "cells": [
  {
   "cell_type": "markdown",
   "metadata": {},
   "source": [
    "### 1. Given three numbers A, B, C you have to write a function named calculate() which takes these 3 numbers as arguments and returns their addition and subtraction in the same function call."
   ]
  },
  {
   "cell_type": "code",
   "execution_count": 23,
   "metadata": {},
   "outputs": [],
   "source": [
    "def calculate(a,b,c):\n",
    "    \n",
    "    add=(a+b+c)\n",
    "    subtract=((a-b)-c)\n",
    "    return add,subtract\n",
    "    "
   ]
  },
  {
   "cell_type": "code",
   "execution_count": 24,
   "metadata": {},
   "outputs": [
    {
     "data": {
      "text/plain": [
       "(13, -3)"
      ]
     },
     "execution_count": 24,
     "metadata": {},
     "output_type": "execute_result"
    }
   ],
   "source": [
    "calculate(5,2,6)"
   ]
  },
  {
   "cell_type": "markdown",
   "metadata": {},
   "source": [
    "### 2. Define a function in python that accepts a list of numbers and returns the maximum."
   ]
  },
  {
   "cell_type": "code",
   "execution_count": 27,
   "metadata": {},
   "outputs": [],
   "source": [
    "lst=[70,5,99,45,1,6,8,66,15,100]\n",
    "\n",
    "\n",
    "def maximum(x):\n",
    "    s=max(x)\n",
    "    return s\n",
    "    "
   ]
  },
  {
   "cell_type": "code",
   "execution_count": 28,
   "metadata": {},
   "outputs": [
    {
     "data": {
      "text/plain": [
       "100"
      ]
     },
     "execution_count": 28,
     "metadata": {},
     "output_type": "execute_result"
    }
   ],
   "source": [
    "maximum(lst)"
   ]
  },
  {
   "cell_type": "markdown",
   "metadata": {},
   "source": [
    "### 3. Write a funciton that takes the name and standard of a student as input and prints it. If the standard is not mentioned then it should default to 10th standard."
   ]
  },
  {
   "cell_type": "code",
   "execution_count": 4,
   "metadata": {},
   "outputs": [],
   "source": [
    "def student(name,*args):\n",
    "    if len(args)==0:\n",
    "        std=10\n",
    "    else:\n",
    "        std=str(args[0])\n",
    "    \n",
    "    print(\"Name of the student :\",name)\n",
    "    print(\"Standard of the student :\",std)"
   ]
  },
  {
   "cell_type": "code",
   "execution_count": 5,
   "metadata": {},
   "outputs": [
    {
     "name": "stdout",
     "output_type": "stream",
     "text": [
      "Name of the student : pradnya\n",
      "Standard of the student : 10\n"
     ]
    }
   ],
   "source": [
    "student(\"pradnya\")"
   ]
  },
  {
   "cell_type": "markdown",
   "metadata": {},
   "source": [
    "### 4. Write a Python function that accepts a string and calculate the number of upper case letters and lower case letters. Return the values of the number of upper and lower case letters and print the count."
   ]
  },
  {
   "cell_type": "code",
   "execution_count": 112,
   "metadata": {},
   "outputs": [],
   "source": [
    "def count_case(s):\n",
    "    \n",
    "    \n",
    "    su=\"\"\n",
    "    sl=\"\"\n",
    "    upper_cnt=0\n",
    "    lower_cnt=0\n",
    "    for i in s:\n",
    "        if i.isupper()==True:\n",
    "            su=su+i\n",
    "            upper_cnt=upper_cnt+1\n",
    "        else:\n",
    "            if i !=\" \":\n",
    "                sl=sl+i\n",
    "                lower_cnt=lower_cnt+1\n",
    "            \n",
    "            \n",
    "    print(\"Upper case count : \",upper_cnt)\n",
    "    print(\"Lower case count : \",lower_cnt)\n",
    "          \n",
    "    return su,sl\n",
    "    \n",
    "            "
   ]
  },
  {
   "cell_type": "code",
   "execution_count": 113,
   "metadata": {},
   "outputs": [
    {
     "name": "stdout",
     "output_type": "stream",
     "text": [
      "Upper case count :  7\n",
      "Lower case count :  9\n"
     ]
    },
    {
     "data": {
      "text/plain": [
       "('HHOWAYO', 'ireudoing')"
      ]
     },
     "execution_count": 113,
     "metadata": {},
     "output_type": "execute_result"
    }
   ],
   "source": [
    "count_case(\"Hi HOW Are YOu doing\")"
   ]
  },
  {
   "cell_type": "markdown",
   "metadata": {},
   "source": [
    "### 5. Write a function that computes the LCM (Lowest common multiple) of 2 numbers."
   ]
  },
  {
   "cell_type": "code",
   "execution_count": 1,
   "metadata": {},
   "outputs": [],
   "source": [
    "def lcm(x,y):\n",
    "    \n",
    "    i=1\n",
    "    while True: \n",
    "        if i%x==0 and i%y==0:\n",
    "            print(i)\n",
    "            break\n",
    "        else:\n",
    "            i=i+1\n",
    "            "
   ]
  },
  {
   "cell_type": "code",
   "execution_count": 2,
   "metadata": {
    "scrolled": true
   },
   "outputs": [
    {
     "name": "stdout",
     "output_type": "stream",
     "text": [
      "4\n"
     ]
    }
   ],
   "source": [
    "lcm(2,4)"
   ]
  },
  {
   "cell_type": "markdown",
   "metadata": {},
   "source": [
    "### 6. Modify the above LCM funciton to compute the LCM of n integers in a list."
   ]
  },
  {
   "cell_type": "code",
   "execution_count": 12,
   "metadata": {},
   "outputs": [],
   "source": [
    "def multiple_lcm(n):\n",
    "    \n",
    "    i=1\n",
    "    while True:\n",
    "        j=0\n",
    "        for n in lst:\n",
    "            \n",
    "            if i%n==0:\n",
    "                j=j+1\n",
    "        if j==len(lst):\n",
    "            break\n",
    "                \n",
    "        else:\n",
    "            i=i+1\n",
    "       \n",
    "    print(i)\n",
    "        \n",
    "  \n",
    "\n",
    " # i is the value of lcm , it is initialized for 1 because we want to know for which value starting from 1 will be the lcm for given list\n",
    " # j is the counter which keeps count of how many iterations did the variable \"n\" made in the list \n",
    " # we need counter because we want i to iterate over all the elements in the list for same value\n",
    " # So what happens is if i is divisible by n then we are increasing count of j , if i is not divisible by n then we are increasing value of i\n",
    " # for certain value of i it is divisible by all the values of n in the list , thus increasing the count of j and making the count of j equal to length of list\n",
    " # so in next line we are checking if value of j is equal to length of list\n",
    " # if it is equal then it indicates that particular value of i is divisible by all the elements in list\n",
    " # thus giving us the lcm of list\n",
    " # We have used while loop because we want the value of i to continue until we find a condition and break it"
   ]
  },
  {
   "cell_type": "code",
   "execution_count": 15,
   "metadata": {},
   "outputs": [
    {
     "name": "stdout",
     "output_type": "stream",
     "text": [
      "462\n"
     ]
    }
   ],
   "source": [
    "lst=[7,11,21,22]\n",
    "\n",
    "\n",
    "\n",
    "multiple_lcm(lst)"
   ]
  },
  {
   "cell_type": "markdown",
   "metadata": {},
   "source": [
    "### 7. Write a program to print twin primes less than 1000. If two consecutive odd numbers are both prime then they are known as twin primes."
   ]
  },
  {
   "cell_type": "code",
   "execution_count": 34,
   "metadata": {},
   "outputs": [],
   "source": [
    "def twin_prime(n):\n",
    "    pr=[]\n",
    "    for i in range (2,n):   \n",
    "        for j in range (2, i):  \n",
    "            if (i % j) == 0:  \n",
    "                break  \n",
    "        else:\n",
    "            pr.append(i)\n",
    "    \n",
    "    print(\"Twin prime numbers less than {} are :\".format(n))\n",
    "    for i in range(len(pr)-1):\n",
    "        if pr[i+1]-pr[i]==2:\n",
    "            print(pr[i],pr[i+1])\n",
    "           \n",
    " \n",
    "\n",
    " #In the first for loop we are checking if the number is prime or no\n",
    " #If the number is prime , then we are appending that number to a list called \"pr\"\n",
    " #In the second for loop we are checking for twin prime numbers\n",
    " #To make sure they are consecutive , i have subtracted i+1 and i and their difference should be 2.\n",
    " #The reason why I have taken difference 2 bcz (2 and 3) both are consecutive prime numbers but we want only odd numbers and also only if the difference is 2 they are consecutive else no.\n",
    " #The reason why \"i\" is range length of list -1 is bcz when i reaches the last value , it cant access the [i+1] index and thus throws \"index out of range\" error.\n",
    "\n",
    "  "
   ]
  },
  {
   "cell_type": "code",
   "execution_count": 37,
   "metadata": {},
   "outputs": [
    {
     "name": "stdout",
     "output_type": "stream",
     "text": [
      "Twin prime numbers less than 1000 are :\n",
      "3 5\n",
      "5 7\n",
      "11 13\n",
      "17 19\n",
      "29 31\n",
      "41 43\n",
      "59 61\n",
      "71 73\n",
      "101 103\n",
      "107 109\n",
      "137 139\n",
      "149 151\n",
      "179 181\n",
      "191 193\n",
      "197 199\n",
      "227 229\n",
      "239 241\n",
      "269 271\n",
      "281 283\n",
      "311 313\n",
      "347 349\n",
      "419 421\n",
      "431 433\n",
      "461 463\n",
      "521 523\n",
      "569 571\n",
      "599 601\n",
      "617 619\n",
      "641 643\n",
      "659 661\n",
      "809 811\n",
      "821 823\n",
      "827 829\n",
      "857 859\n",
      "881 883\n"
     ]
    }
   ],
   "source": [
    "twin_prime(1000)"
   ]
  },
  {
   "cell_type": "code",
   "execution_count": null,
   "metadata": {},
   "outputs": [],
   "source": []
  }
 ],
 "metadata": {
  "kernelspec": {
   "display_name": "Python 3 (ipykernel)",
   "language": "python",
   "name": "python3"
  },
  "language_info": {
   "codemirror_mode": {
    "name": "ipython",
    "version": 3
   },
   "file_extension": ".py",
   "mimetype": "text/x-python",
   "name": "python",
   "nbconvert_exporter": "python",
   "pygments_lexer": "ipython3",
   "version": "3.9.7"
  }
 },
 "nbformat": 4,
 "nbformat_minor": 2
}
