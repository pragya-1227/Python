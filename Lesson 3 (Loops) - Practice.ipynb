{
 "cells": [
  {
   "cell_type": "markdown",
   "id": "59c52928",
   "metadata": {},
   "source": [
    "### 1. Take a number as input from user and print the factorial of the number."
   ]
  },
  {
   "cell_type": "code",
   "execution_count": 43,
   "id": "4be1b029",
   "metadata": {},
   "outputs": [
    {
     "name": "stdout",
     "output_type": "stream",
     "text": [
      "Enter a number :5\n",
      "Factorial of 5 is 120\n"
     ]
    }
   ],
   "source": [
    "f=int(input(\"Enter a number :\"))\n",
    "fact=1\n",
    "if f>=0:\n",
    "    for i in range(1,f+1):\n",
    "        fact=fact*i\n",
    "    print(\"Factorial of {} is {}\".format(f,fact))\n",
    "else:\n",
    "    print(\"Enter positive number\")\n",
    "    \n",
    "    "
   ]
  },
  {
   "cell_type": "markdown",
   "id": "759c074b",
   "metadata": {},
   "source": [
    "### 2. Take a number as input and print the multiplication table upto 20 of that number."
   ]
  },
  {
   "cell_type": "code",
   "execution_count": 81,
   "id": "fc3a4149",
   "metadata": {},
   "outputs": [
    {
     "name": "stdout",
     "output_type": "stream",
     "text": [
      "Enter a number :6\n",
      "6 x 1 = 6\n",
      "6 x 2 = 12\n",
      "6 x 3 = 18\n",
      "6 x 4 = 24\n",
      "6 x 5 = 30\n",
      "6 x 6 = 36\n",
      "6 x 7 = 42\n",
      "6 x 8 = 48\n",
      "6 x 9 = 54\n",
      "6 x 10 = 60\n",
      "6 x 11 = 66\n",
      "6 x 12 = 72\n",
      "6 x 13 = 78\n",
      "6 x 14 = 84\n",
      "6 x 15 = 90\n",
      "6 x 16 = 96\n",
      "6 x 17 = 102\n",
      "6 x 18 = 108\n",
      "6 x 19 = 114\n",
      "6 x 20 = 120\n"
     ]
    }
   ],
   "source": [
    "z=int(input(\"Enter a number :\"))\n",
    "\n",
    "for i in range(1,21):\n",
    "    print(\"{} x {} =\".format(z,i),z*i)"
   ]
  },
  {
   "cell_type": "markdown",
   "id": "46c28b37",
   "metadata": {},
   "source": [
    "### 3. Write a program to take 2 numbers as input from the user. Then take another input from user as operation and do the following based on the input given by the user for operation.\n",
    "\n",
    "* If user enters \"1\" print Addition of the 2 numbers entered.\n",
    "* If user enters \"2\" print Subtraction of the 2 numbers entered.\n",
    "* If user enters \"3\" print Multiplication of the 2 numbers entered.\n",
    "* If user enters \"4\" print Division of the 2 numbers entered.\n",
    "\n",
    "### Note: If the user enters any other input other than 1 to 4 it should prompt that the entered input is incorrect and that the user should enter a number from 1 to 4 and ask for the input again. This step should repeat as long as the user gives incorrect inputs and should only proceed when the user gives a correct input."
   ]
  },
  {
   "cell_type": "code",
   "execution_count": 44,
   "id": "89f1edc0",
   "metadata": {},
   "outputs": [
    {
     "name": "stdout",
     "output_type": "stream",
     "text": [
      "Enter the first number:20\n",
      "Enter the second number:60\n",
      " 1.Addition \n",
      " 2.Subtraction \n",
      " 3.Multiplication \n",
      " 4.Division\n",
      "Input the operation value from the above list :5\n",
      "Invalid selection\n",
      "Input the operation value from the above list :9\n",
      "Invalid selection\n",
      "Input the operation value from the above list :3\n",
      "Multiplication : 1200\n"
     ]
    }
   ],
   "source": [
    "a=input(\"Enter the first number:\")\n",
    "b=input(\"Enter the second number:\")\n",
    "print(\" 1.Addition \\n 2.Subtraction \\n 3.Multiplication \\n 4.Division\")\n",
    "x=1\n",
    "while x==1:\n",
    "    opt=input(\"Input the operation value from the above list :\")\n",
    "\n",
    "    if int(opt)==1:\n",
    "        result=int(a)+int(b)\n",
    "        print(\"Addition :\",result)\n",
    "        x=0\n",
    "    elif int(opt)==2:\n",
    "        result=int(a)-int(b)\n",
    "        print(\"Subtraction :\",result)\n",
    "        x=0\n",
    "    elif int(opt)==3:\n",
    "        result=int(a)*int(b)\n",
    "        print(\"Multiplication :\",result)\n",
    "        x=0\n",
    "    elif int(opt)==4:\n",
    "        result=int(a)/int(b)\n",
    "        print(\"Division :\",result)\n",
    "        x=0\n",
    "    else:\n",
    "        print(\"Invalid selection\")\n",
    "        x=1\n",
    "    "
   ]
  },
  {
   "cell_type": "markdown",
   "id": "fbaa5c74",
   "metadata": {},
   "source": [
    "### 4. Print all the numbers from 0 to 99 without using 100 anywhere in your code.\n",
    "\n",
    "for eg: \n",
    "    for i in range(100):\n",
    "        print(i) is not correct as we are using 100 in the code.\n",
    "        \n",
    "or for i in range(10*10): print(i) is also not correct as 10 * 10 = 100"
   ]
  },
  {
   "cell_type": "code",
   "execution_count": 2,
   "id": "9cd90280",
   "metadata": {},
   "outputs": [
    {
     "name": "stdout",
     "output_type": "stream",
     "text": [
      "0\n",
      "1\n",
      "2\n",
      "3\n",
      "4\n",
      "5\n",
      "6\n",
      "7\n",
      "8\n",
      "9\n",
      "10\n",
      "11\n",
      "12\n",
      "13\n",
      "14\n",
      "15\n",
      "16\n",
      "17\n",
      "18\n",
      "19\n",
      "20\n",
      "21\n",
      "22\n",
      "23\n",
      "24\n",
      "25\n",
      "26\n",
      "27\n",
      "28\n",
      "29\n",
      "30\n",
      "31\n",
      "32\n",
      "33\n",
      "34\n",
      "35\n",
      "36\n",
      "37\n",
      "38\n",
      "39\n",
      "40\n",
      "41\n",
      "42\n",
      "43\n",
      "44\n",
      "45\n",
      "46\n",
      "47\n",
      "48\n",
      "49\n",
      "50\n",
      "51\n",
      "52\n",
      "53\n",
      "54\n",
      "55\n",
      "56\n",
      "57\n",
      "58\n",
      "59\n",
      "60\n",
      "61\n",
      "62\n",
      "63\n",
      "64\n",
      "65\n",
      "66\n",
      "67\n",
      "68\n",
      "69\n",
      "70\n",
      "71\n",
      "72\n",
      "73\n",
      "74\n",
      "75\n",
      "76\n",
      "77\n",
      "78\n",
      "79\n",
      "80\n",
      "81\n",
      "82\n",
      "83\n",
      "84\n",
      "85\n",
      "86\n",
      "87\n",
      "88\n",
      "89\n",
      "90\n",
      "91\n",
      "92\n",
      "93\n",
      "94\n",
      "95\n",
      "96\n",
      "97\n",
      "98\n",
      "99\n"
     ]
    }
   ],
   "source": [
    "\n",
    "#METHOD--1\n",
    "\n",
    "x=0\n",
    "while x >=0:\n",
    "    print(x)\n",
    "    x=x+1\n",
    "    if x > 99:\n",
    "        break\n",
    "        \n",
    "        \n",
    "        \n",
    "        \n",
    "#METHOD--2      \n",
    "for i in range(98+2):\n",
    "    print(i)"
   ]
  },
  {
   "cell_type": "markdown",
   "id": "d019c6d1",
   "metadata": {},
   "source": [
    "### 5. Take two numbers as input and print all the prime numbers between the 2 numbers."
   ]
  },
  {
   "cell_type": "code",
   "execution_count": 45,
   "id": "99aea1b3",
   "metadata": {},
   "outputs": [
    {
     "name": "stdout",
     "output_type": "stream",
     "text": [
      " Enter the Lowest Value: 9\n",
      " Enter the Upper Value: 15\n",
      "11\n",
      "13\n"
     ]
    }
   ],
   "source": [
    "a= int(input (\" Enter the Lowest Value: \"))  \n",
    "b= int(input (\" Enter the Upper Value: \"))  \n",
    "  \n",
    "for i in range (a,b + 1):  \n",
    "    if i > 1:  \n",
    "        for j in range (2, i):  \n",
    "            if (i % j) == 0:  \n",
    "                break  \n",
    "        else:  \n",
    "            print (i)  "
   ]
  },
  {
   "cell_type": "markdown",
   "id": "48f39d16",
   "metadata": {},
   "source": [
    "### 6. Write a program to take a number as input and print that sum of the cubes of the individual digits of the number. Then check if the number is an Armstrong number and print if it is or isn't an Armstrong number. If the sum of the cubes of the individual digits of the number is equal the number itself then it is called an Armstrong number. \n",
    "for eg: 371 is an Armstrong number as 3^3 + 7^3 + 1^3 = 371"
   ]
  },
  {
   "cell_type": "code",
   "execution_count": 46,
   "id": "9de1ac1e",
   "metadata": {},
   "outputs": [
    {
     "name": "stdout",
     "output_type": "stream",
     "text": [
      "Enter the positive number153\n",
      "Sum of cubes of digit : 153\n",
      "153  is an Armstrong number\n"
     ]
    }
   ],
   "source": [
    "number=int(input(\"Enter the positive number\"))\n",
    "result = 0\n",
    "temporary = number\n",
    "while temporary > 0:\n",
    "    digit = temporary % 10\n",
    "    result += digit ** 3\n",
    "    temporary //= 10\n",
    "print(\"Sum of cubes of digit : {}\".format(result))\n",
    "if number == result:\n",
    "     print(number,\" is an Armstrong number\")\n",
    "else:\n",
    "     print(number,\" is not an Armstrong number\")"
   ]
  },
  {
   "cell_type": "markdown",
   "id": "2df593db",
   "metadata": {},
   "source": [
    "### 7. Write a program to print all the positive even number is the list below."
   ]
  },
  {
   "cell_type": "code",
   "execution_count": 26,
   "id": "98ce3464",
   "metadata": {},
   "outputs": [
    {
     "name": "stdout",
     "output_type": "stream",
     "text": [
      "10\n",
      "8\n",
      "42\n",
      "18\n",
      "70\n"
     ]
    }
   ],
   "source": [
    "lst = [10, 13, -12, 7,  8, 23, 42, -34, 18, 53, -62, 70, 93, -101, 3]\n",
    "\n",
    "# Write your code below\n",
    "for i in lst:\n",
    "    if i >0 and i%2==0:\n",
    "        print(i)\n"
   ]
  },
  {
   "cell_type": "markdown",
   "id": "77fcc084",
   "metadata": {},
   "source": [
    "### 8. Take a positive number < 100 as input from user and print all the number that are multiples of that number in the below list."
   ]
  },
  {
   "cell_type": "code",
   "execution_count": 50,
   "id": "e0a869aa",
   "metadata": {},
   "outputs": [
    {
     "name": "stdout",
     "output_type": "stream",
     "text": [
      "Enter the positive number less than 100 : 9\n",
      "[9, 18, 27, 36, 45, 54, 63, 72, 81, 90, 99]\n"
     ]
    }
   ],
   "source": [
    "lst_100 = [x for x in range(1, 101)]  \n",
    "\n",
    "\"\"\"This above code generates a list of all the number from 1 to 100.\n",
    "    This type of code is called list comprehension.\"\"\"\n",
    "\n",
    "# Please type your code below\n",
    "c=int(input(\"Enter the positive number less than 100 : \"))\n",
    "\n",
    "if c>0 & c<100:\n",
    "    lst_100 = [x for x in range(1, 101) if x%c==0] \n",
    "    print(lst_100)\n",
    "   "
   ]
  },
  {
   "cell_type": "markdown",
   "id": "caae6295",
   "metadata": {},
   "source": [
    "### 9. Write a program to print the below pattern."
   ]
  },
  {
   "cell_type": "raw",
   "id": "3e9c9c6c",
   "metadata": {},
   "source": [
    "*\n",
    "**\n",
    "***\n",
    "****\n",
    "*****\n",
    "****\n",
    "***\n",
    "**\n",
    "*\n",
    "\n",
    "Hint: Strings support multiplication operatation."
   ]
  },
  {
   "cell_type": "code",
   "execution_count": 37,
   "id": "b1bfa861",
   "metadata": {},
   "outputs": [
    {
     "name": "stdout",
     "output_type": "stream",
     "text": [
      "*\r\n",
      "**\r\n",
      "***\r\n",
      "****\r\n",
      "*****\r\n",
      "****\r\n",
      "***\r\n",
      "**\r\n",
      "*\r\n"
     ]
    }
   ],
   "source": [
    "#SOLVED USING FUNCTIONS , ALTERNATE METHODS ARE ALSO POSSIBLE USING LOOPS AND LIST COMPREHENSIONS\n",
    "\n",
    "\n",
    "\n",
    "def first():\n",
    "    for i in range(0,5):\n",
    "        for j in range(0,i+1):\n",
    "            print(\"*\",end=\"\")\n",
    "\n",
    "        print(\"\\r\")\n",
    "    \n",
    "def second():\n",
    "    for i in range(4,0,-1):\n",
    "        for j in range(0,i):\n",
    "            print(\"*\",end=\"\")\n",
    "\n",
    "        print(\"\\r\")\n",
    "    \n",
    "    \n",
    "first()\n",
    "second()"
   ]
  },
  {
   "cell_type": "markdown",
   "id": "052e8750",
   "metadata": {},
   "source": [
    "### 10. Simulate the Collatz conjecture: Take a positive number as input and do the following:\n",
    "* If the number is even divide it by 2\n",
    "* If the number is odd multiply it by 3 and add 1\n",
    "#### Repeat this iteratively unitl your reach 1. Print the result of each iteration.\n",
    "For eg: If input is 6\n",
    "Output is: 3, 10, 5, 16, 8, 4, 2, 1\n",
    "\n",
    "### Also print the number of iterations that was needed to get to 1.\n",
    "\n",
    "#### P.S.: Collatz conjucture states that if we apply the above rules to any positive number the sequence will eventually reach 1. It has not yet been proven that this is valid for all positive integers. There is video on youtube regarding this if you are interested to know more. Link : https://www.youtube.com/watch?v=094y1Z2wpJg&ab_channel=Veritasium"
   ]
  },
  {
   "cell_type": "code",
   "execution_count": 79,
   "id": "5862b10f",
   "metadata": {},
   "outputs": [
    {
     "name": "stdout",
     "output_type": "stream",
     "text": [
      "Enter a positive number7\n",
      "22\n",
      "11.0\n",
      "34.0\n",
      "17.0\n",
      "52.0\n",
      "26.0\n",
      "13.0\n",
      "40.0\n",
      "20.0\n",
      "10.0\n",
      "5.0\n",
      "16.0\n",
      "8.0\n",
      "4.0\n",
      "2.0\n",
      "1.0\n",
      "Number of iterations : 16\n"
     ]
    }
   ],
   "source": [
    "s=int(input(\"Enter a positive number\"))\n",
    "cnt=0\n",
    "while s>0 :\n",
    "    cnt=cnt+1\n",
    "    if s%2==0:\n",
    "        s=s/2\n",
    "    else:\n",
    "        s=(s*3)+1\n",
    "    print(s)\n",
    "\n",
    "    if s==1:\n",
    "        break\n",
    "print(\"Number of iterations :\",cnt)        "
   ]
  },
  {
   "cell_type": "code",
   "execution_count": null,
   "id": "c6b819ef",
   "metadata": {},
   "outputs": [],
   "source": []
  }
 ],
 "metadata": {
  "kernelspec": {
   "display_name": "Python 3 (ipykernel)",
   "language": "python",
   "name": "python3"
  },
  "language_info": {
   "codemirror_mode": {
    "name": "ipython",
    "version": 3
   },
   "file_extension": ".py",
   "mimetype": "text/x-python",
   "name": "python",
   "nbconvert_exporter": "python",
   "pygments_lexer": "ipython3",
   "version": "3.9.7"
  }
 },
 "nbformat": 4,
 "nbformat_minor": 5
}
