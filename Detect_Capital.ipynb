{
 "cells": [
  {
   "cell_type": "markdown",
   "id": "252af108",
   "metadata": {},
   "source": [
    "## In the detect capital problem, you will be given a word as input, and you need to check if:\n",
    "\n",
    "   1. All the letters are uppercase: return True;\n",
    "   2. All the letters are lowercase: return True;\n",
    "   3. Only the first letter is uppercase: return True;\n",
    "   4. Some letters are uppercase, and some are lowercase: return False;\n",
    "   5. The first letter is lowercase with an uppercase letter in the word: return False;"
   ]
  },
  {
   "cell_type": "code",
   "execution_count": 4,
   "id": "1f8bea9a",
   "metadata": {},
   "outputs": [],
   "source": [
    "def detect_capital(string):\n",
    "    s=string\n",
    "    if s.isupper():\n",
    "        return True\n",
    "    elif s.islower():\n",
    "        return True\n",
    "    elif s.istitle():\n",
    "        return True\n",
    "    else:\n",
    "        return False"
   ]
  },
  {
   "cell_type": "code",
   "execution_count": 8,
   "id": "14a5420b",
   "metadata": {},
   "outputs": [
    {
     "data": {
      "text/plain": [
       "False"
      ]
     },
     "execution_count": 8,
     "metadata": {},
     "output_type": "execute_result"
    }
   ],
   "source": [
    "detect_capital(\"InDia\")"
   ]
  },
  {
   "cell_type": "code",
   "execution_count": null,
   "id": "ebae55db",
   "metadata": {},
   "outputs": [],
   "source": []
  }
 ],
 "metadata": {
  "kernelspec": {
   "display_name": "Python 3 (ipykernel)",
   "language": "python",
   "name": "python3"
  },
  "language_info": {
   "codemirror_mode": {
    "name": "ipython",
    "version": 3
   },
   "file_extension": ".py",
   "mimetype": "text/x-python",
   "name": "python",
   "nbconvert_exporter": "python",
   "pygments_lexer": "ipython3",
   "version": "3.9.7"
  }
 },
 "nbformat": 4,
 "nbformat_minor": 5
}
