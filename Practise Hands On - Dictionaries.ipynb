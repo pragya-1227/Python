{
 "cells": [
  {
   "cell_type": "markdown",
   "metadata": {},
   "source": [
    "### 1. Store the names and age of 3 people using a dictionary where \"name\" and \"age\" are keys of the dictionary"
   ]
  },
  {
   "cell_type": "code",
   "execution_count": 1,
   "metadata": {},
   "outputs": [
    {
     "name": "stdout",
     "output_type": "stream",
     "text": [
      "{'name': ['pradnya', 'ashish', 'viju'], 'age': [23, 29, 57]}\n"
     ]
    }
   ],
   "source": [
    "new_dict={\"name\":[\"pradnya\",\"ashish\",\"viju\"],\"age\":[23,29,57]}\n",
    "print(new_dict)\n",
    "\n"
   ]
  },
  {
   "cell_type": "markdown",
   "metadata": {},
   "source": [
    "### 2. Add city as another key with the corresponding values to the above dictionary."
   ]
  },
  {
   "cell_type": "code",
   "execution_count": 2,
   "metadata": {},
   "outputs": [
    {
     "name": "stdout",
     "output_type": "stream",
     "text": [
      "['Goa', 'Belgaum', 'hubli']\n",
      "{'name': ['pradnya', 'ashish', 'viju'], 'age': [23, 29, 57], 'city': ['Goa', 'Belgaum', 'hubli']}\n"
     ]
    }
   ],
   "source": [
    "new_dict[\"city\"]=[\"Goa\",\"Belgaum\",\"hubli\"]\n",
    "print(new_dict[\"city\"])\n",
    "print(new_dict)"
   ]
  },
  {
   "cell_type": "markdown",
   "metadata": {},
   "source": [
    "### 3. Print the name and city or residence of for each person in the dictionary."
   ]
  },
  {
   "cell_type": "code",
   "execution_count": 3,
   "metadata": {},
   "outputs": [
    {
     "name": "stdout",
     "output_type": "stream",
     "text": [
      "pradnya Goa\n",
      "ashish Belgaum\n",
      "viju hubli\n"
     ]
    }
   ],
   "source": [
    "for i in range(len(new_dict[\"name\"])):\n",
    "    print(new_dict[\"name\"][i],new_dict[\"city\"][i])\n",
    "   \n",
    "    \n",
    "\n",
    "#i will iterate through length of \"name\" starting from 0 \n",
    "#print statement takes values of i from loop and print the following"
   ]
  },
  {
   "cell_type": "markdown",
   "metadata": {},
   "source": [
    "### 4. Add the name, age and city of a 4th person to the above dictionary"
   ]
  },
  {
   "cell_type": "code",
   "execution_count": 4,
   "metadata": {},
   "outputs": [],
   "source": [
    "new_dict[\"name\"]=new_dict[\"name\"]+[\"raju\"]\n",
    "new_dict[\"age\"]=new_dict[\"age\"]+[50]\n",
    "new_dict[\"city\"]=new_dict[\"city\"]+[\"dholakpur\"]"
   ]
  },
  {
   "cell_type": "code",
   "execution_count": 5,
   "metadata": {},
   "outputs": [
    {
     "name": "stdout",
     "output_type": "stream",
     "text": [
      "{'name': ['pradnya', 'ashish', 'viju', 'raju'], 'age': [23, 29, 57, 50], 'city': ['Goa', 'Belgaum', 'hubli', 'dholakpur']}\n"
     ]
    }
   ],
   "source": [
    "print(new_dict)"
   ]
  },
  {
   "cell_type": "markdown",
   "metadata": {},
   "source": [
    "### 5. Delete the detials of the 2nd person in the dictionary"
   ]
  },
  {
   "cell_type": "code",
   "execution_count": 6,
   "metadata": {},
   "outputs": [
    {
     "name": "stdout",
     "output_type": "stream",
     "text": [
      "{'name': ['pradnya', 'viju', 'raju'], 'age': [23, 57, 50], 'city': ['Goa', 'hubli', 'dholakpur']}\n"
     ]
    }
   ],
   "source": [
    "i=1\n",
    "del new_dict[\"name\"][i],new_dict[\"age\"][i],new_dict[\"city\"][i]\n",
    "print(new_dict)"
   ]
  },
  {
   "cell_type": "markdown",
   "metadata": {},
   "source": [
    "### 6. If a = 1, b = 2...... z = 26, take a string as input from user and print the sum of all the letters in the string."
   ]
  },
  {
   "cell_type": "code",
   "execution_count": 1,
   "metadata": {},
   "outputs": [
    {
     "name": "stdout",
     "output_type": "stream",
     "text": [
      "Enter a string :jaya\n",
      "37\n"
     ]
    }
   ],
   "source": [
    "letters={\"a\":1,\"b\":2,\"c\":3,\"d\":4,\"e\":5,\"f\":6,\"g\":7,\"h\":8,\"i\":9,\"j\":10,\"k\":11,\"l\":12,\"m\":13,\"n\":14,\"o\":15,\"p\":16,\"q\":17,\"r\":18,\"s\":19,\"t\":20,\"u\":21,\"v\":22,\"w\":23,\"x\":24,\"y\":25,\"z\":26}\n",
    "s=input(\"Enter a string :\")\n",
    "ss=s.lower()\n",
    "total=0\n",
    "for i in ss:\n",
    "    j=letters.get(i)\n",
    "    total=total+j\n",
    "print(total)    "
   ]
  },
  {
   "cell_type": "code",
   "execution_count": null,
   "metadata": {},
   "outputs": [],
   "source": []
  }
 ],
 "metadata": {
  "kernelspec": {
   "display_name": "Python 3 (ipykernel)",
   "language": "python",
   "name": "python3"
  },
  "language_info": {
   "codemirror_mode": {
    "name": "ipython",
    "version": 3
   },
   "file_extension": ".py",
   "mimetype": "text/x-python",
   "name": "python",
   "nbconvert_exporter": "python",
   "pygments_lexer": "ipython3",
   "version": "3.9.7"
  }
 },
 "nbformat": 4,
 "nbformat_minor": 2
}
